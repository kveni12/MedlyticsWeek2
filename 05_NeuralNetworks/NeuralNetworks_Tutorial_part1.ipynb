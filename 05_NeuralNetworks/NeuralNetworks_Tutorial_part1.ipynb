{
 "cells": [
  {
   "cell_type": "markdown",
   "source": "<a href=\"https://colab.research.google.com/github/BeaverWorksMedlytics2020/Week2/blob/master/Notebooks/05_NeuralNetworks/NeuralNetworks_Tutorial_part1.ipynb\" target=\"_parent\"><img src=\"https://colab.research.google.com/assets/colab-badge.svg\" alt=\"Open In Colab\"/></a>",
   "metadata": {
    "id": "view-in-github",
    "colab_type": "text",
    "cell_id": "5856d95c-2ee4-49ce-9fbf-21ca69b4fdc9",
    "deepnote_cell_type": "markdown",
    "deepnote_cell_height": 90
   }
  },
  {
   "cell_type": "markdown",
   "source": "## Building a Simple Neural Network with Tensorflow Keras\n\nIn this notebook we are going to walk through building a simple neural network to classify sequence data. This tutorial will be meant as a fast overview of building/training neural networks with Keras.",
   "metadata": {
    "id": "PlpG_fIiqdJU",
    "colab_type": "text",
    "cell_id": "00001-ce72b0b5-91df-4ff9-a458-68b2873d875f",
    "owner_user_id": "c4be1506-04b7-4de0-bca3-1f448f666af7",
    "deepnote_cell_type": "markdown",
    "deepnote_cell_height": 130.796875
   }
  },
  {
   "cell_type": "code",
   "metadata": {
    "id": "eFSzOvSduDf8",
    "colab_type": "code",
    "colab": {
     "base_uri": "https://localhost:8080/",
     "height": 34
    },
    "outputId": "61c63452-faa5-499b-852b-080a0a7b6c0a",
    "cell_id": "00002-4cb0f598-5685-4255-91b1-5b66ee15e871",
    "owner_user_id": "31096d3d-0872-438d-bbc0-f8d27b377371",
    "deepnote_to_be_reexecuted": false,
    "source_hash": "799af7d0",
    "execution_start": 1658330170691,
    "execution_millis": 4958,
    "deepnote_cell_type": "code",
    "deepnote_cell_height": 441
   },
   "source": "# Import useful libraries\n\n#Needed for terminal functions (i.e. wget)\nimport os\n\n#For plotting\nimport matplotlib.pyplot as plt\n\n#For dataframe manipulation\nimport pandas as pd\n\n#For data preprocessing\nfrom sklearn.preprocessing import StandardScaler #Use StandardScaler from scikitlearn\nfrom sklearn.utils import shuffle #Used to shuffle up examples before training\n\n#Keras-related imports\nfrom keras.models import Sequential  #we will build our models layer by layer\nfrom keras.layers import Dense  #we want to use dense layers in our model\n\n#Keras is built on top of tensorflow library\nimport tensorflow as tf #tf has many helpful functions for training networks like loss functions, optimization methods, etc.",
   "execution_count": 1,
   "outputs": []
  },
  {
   "cell_type": "code",
   "metadata": {
    "id": "Ep_09mlyqa5G",
    "colab_type": "code",
    "colab": {
     "base_uri": "https://localhost:8080/",
     "height": 34
    },
    "outputId": "2fea20bb-a35c-40a4-e329-13dc1d796926",
    "cell_id": "00003-3ef784d6-84a7-4b4d-b46d-23fb9719e354",
    "deepnote_cell_type": "code",
    "deepnote_cell_height": 136.1875,
    "deepnote_output_heights": [
     21.1875
    ]
   },
   "source": "#Load the dataframe that contains all features calculated in the last notebook (only run once)\nos.system('wget https://raw.githubusercontent.com/BeaverWorksMedlytics2020/Data_Public/master/NotebookExampleData/Week2/spoken_digit_manual_features.csv')",
   "execution_count": 2,
   "outputs": [
    {
     "output_type": "execute_result",
     "data": {
      "text/plain": "0"
     },
     "metadata": {
      "tags": []
     },
     "execution_count": 2
    }
   ]
  },
  {
   "cell_type": "markdown",
   "source": "## Load Training Data",
   "metadata": {
    "id": "zChcGaqVysRB",
    "colab_type": "text",
    "cell_id": "00004-b0a596a5-9f94-497c-bbdd-e4a605806b18",
    "deepnote_cell_type": "markdown",
    "deepnote_cell_height": 70
   }
  },
  {
   "cell_type": "code",
   "metadata": {
    "id": "SVwsmOGvw7jp",
    "colab_type": "code",
    "colab": {
     "base_uri": "https://localhost:8080/",
     "height": 255
    },
    "outputId": "8cc4a4d8-7200-494b-951c-8ced02534ac3",
    "cell_id": "00005-e7e1c8ec-4abc-474a-be45-9e05c7b1fd45",
    "deepnote_cell_type": "code",
    "deepnote_cell_height": 583.734375
   },
   "source": "#Load dataframe and print its contents to jog memory\nspoken_df = pd.read_csv('spoken_digit_manual_features.csv', index_col = 0)\nprint(spoken_df.head(10))\nprint('\\n')\n\n#Check how many unique speakers exist in the dataset\nspeakers=set(spoken_df['speaker'])\nprint(f'There are {len(speakers)} unique speakers in the dataset')\n\n# Our goal for this is to build a neural network that learns to classify which\n# of 5 speakers is recorded in a sample based on the features:\n# spectral centroid, spectral flatness, and maximum frequency\n",
   "execution_count": 3,
   "outputs": [
    {
     "output_type": "stream",
     "text": "                file  digit   speaker  trial           SC        SF          MF\n0   5_yweweler_8.wav      5  yweweler      8  1029.497959  0.397336  745.878340\n1    3_george_49.wav      3    george      4  1881.296834  0.387050  323.943662\n2  9_yweweler_44.wav      9  yweweler      4  1093.951856  0.394981  244.648318\n3  8_yweweler_33.wav      8  yweweler      3  1409.543285  0.487496  392.350401\n4      7_theo_34.wav      7      theo      3   887.361601  0.396825  130.640309\n5   1_jackson_45.wav      1   jackson      4  1007.568129  0.324100  216.306156\n6  6_yweweler_18.wav      6  yweweler      1  1286.701352  0.498813  400.715564\n7    9_george_35.wav      9    george      3  1405.092061  0.353083  447.239693\n8   9_jackson_32.wav      9   jackson      3  1172.899961  0.477907  114.892780\n9    8_george_26.wav      8    george      2  1959.977577  0.462901  320.537966\n\n\nThere are 5 unique speakers in the dataset\n",
     "name": "stdout"
    }
   ]
  },
  {
   "cell_type": "markdown",
   "source": "## Structure Neural Network",
   "metadata": {
    "id": "riycN8SdyxNT",
    "colab_type": "text",
    "cell_id": "00006-0b4cf3fc-d2b2-4a82-b4d8-b208781c9096",
    "deepnote_cell_type": "markdown",
    "deepnote_cell_height": 70
   }
  },
  {
   "cell_type": "code",
   "metadata": {
    "id": "qMp_z7W9vZV4",
    "colab_type": "code",
    "colab": {},
    "cell_id": "00007-2873d482-dfce-47cc-9c31-5d3dd06e7154",
    "deepnote_cell_type": "code",
    "deepnote_cell_height": 318
   },
   "source": "# Build the keras neural network\n\n#this allows us to add layers sequentially (i.e. first->last)\nmodel = tf.keras.Sequential()\n\n#create a first layer of 12 neurons, and a rectified linear unit activation function\nmodel.add(tf.keras.layers.Dense(8, input_shape=(3,), activation=tf.nn.relu)) #input dimension needs to be number of features\n\n#add two dense layers with 8 units each\n#(note that we don't need to specify input size because keras determines input size from previous layer)\nmodel.add(tf.keras.layers.Dense(8, activation=tf.nn.relu))\nmodel.add(tf.keras.layers.Dense(8, activation=tf.nn.relu))\n\n# output dimension needs to be number of classes in order for each to get a score\nmodel.add(tf.keras.layers.Dense(5, activation=tf.nn.softmax)) ",
   "execution_count": 4,
   "outputs": []
  },
  {
   "cell_type": "markdown",
   "source": "## Specify a Loss Function and an Optimizer for NN Model\n\nLet's describe why each of these components is necessary, and how it is used in training a neural network.\n\n**Loss Function** - This is the quantity that should be minimized when the network is trained. (It is like the mean squared error for a linear regression.) A neural network can use squared error as a loss function, but there are also other options. In the case of a neural network trying to classify samples into 1 of n categories system a common choice is called cross entropy loss.\n\n**Optimizer** - When a neural network is trained, it changes weights in the network to minimize the loss function. The optimizer governs how the neural network iteratively changes its weights as it minimizes loss. Many optimizers use the derivative of the loss function with respect to all the weights to decide which direction to change network weights.",
   "metadata": {
    "id": "9p9UDYX-y_v9",
    "colab_type": "text",
    "cell_id": "00008-1ead1f24-bc77-4ff8-8baf-eac02d04ce65",
    "deepnote_cell_type": "markdown",
    "deepnote_cell_height": 293.1875
   }
  },
  {
   "cell_type": "code",
   "metadata": {
    "id": "fKRMZVOkyoUP",
    "colab_type": "code",
    "colab": {},
    "cell_id": "00009-e4ee2976-5c03-448e-bc98-4a953f96ddb3",
    "deepnote_cell_type": "code",
    "deepnote_cell_height": 138
   },
   "source": "#Specify a loss function for our network\n\n#Note that the metrics input argument governs what will be reported as the network is trained \nmodel.compile(loss = tf.keras.losses.categorical_crossentropy, optimizer = tf.keras.optimizers.Adam(learning_rate=0.01) , metrics = ['accuracy'])\n",
   "execution_count": 5,
   "outputs": []
  },
  {
   "cell_type": "markdown",
   "source": "## Convert Labels into \"Onehot\" Vectors\n\nPredictions output by the model need to be compared to some truth label. Currently, the model predicts a 5-element vector of \"prediction values\" for every sample. The truth labels thus need to be converted to a 5-element vector with a 1 in the correct index and zeros in all others",
   "metadata": {
    "id": "xgP9AW_KSDuy",
    "colab_type": "text",
    "cell_id": "00010-35a2fa85-23ce-47c9-98f2-b506f115cebd",
    "deepnote_cell_type": "markdown",
    "deepnote_cell_height": 153.1875
   }
  },
  {
   "cell_type": "code",
   "metadata": {
    "id": "Ix3lG15TSo42",
    "colab_type": "code",
    "colab": {},
    "cell_id": "00011-72eb8cf8-d7aa-4bd6-8cc1-6126bcf8d552",
    "deepnote_cell_type": "code",
    "deepnote_cell_height": 174
   },
   "source": "#make dictionary to convert from speaker names to indices\nname2int_dict = {name: ind for (ind, name) in enumerate(set(spoken_df['speaker']))}\n\ny_labels = spoken_df['speaker']\n#set y_labels to be indices of speaker\ny_labels = [name2int_dict[name] for name in y_labels]\n",
   "execution_count": 6,
   "outputs": []
  },
  {
   "cell_type": "markdown",
   "source": "## Standardize Data and split into train/validation/test sets\n\nScaling data is generally good practice before attempting to fit a model. Having inputs with large differences in scale can affect how the optimizer changes weights to minimize the loss function",
   "metadata": {
    "id": "uegmriZU29sA",
    "colab_type": "text",
    "cell_id": "00012-68c06e0c-421b-45aa-9b1b-92cb285a9434",
    "deepnote_cell_type": "markdown",
    "deepnote_cell_height": 130.796875
   }
  },
  {
   "cell_type": "code",
   "metadata": {
    "id": "HM-ON_x930fu",
    "colab_type": "code",
    "colab": {},
    "cell_id": "00013-2ce2c2d0-b427-42c1-8db4-84e8eb57fb99",
    "deepnote_cell_type": "code",
    "deepnote_cell_height": 534
   },
   "source": "#downselect to only the 3 columns of the dataset we are learning from\nX_data = spoken_df[['SC', 'SF', 'MF']].to_numpy()\n\n#Decide how large to make validation and test sets\nn_val = 250\nn_test = 250\n\n#Shuffle data before partitioning\nX_data, y_labels = shuffle(X_data, y_labels, random_state = 25)\n\n#Partition\nX_data_test, y_labels_test = X_data[:n_test,:], y_labels[:n_test]\nX_data_val, y_labels_val = X_data[n_test:n_test+n_val,:], y_labels[n_test:n_test+n_val]\nX_data_train, y_labels_train = X_data[n_test+n_val:,:], y_labels[n_test+n_val:]\n\n#Scale data\nscaler = StandardScaler()\nX_data_train=scaler.fit_transform(X_data_train)\nX_data_val = scaler.transform(X_data_val)\nX_data_test = scaler.transform(X_data_test)\n\n#convert labels to onehot\ny_labels_train = tf.keras.utils.to_categorical(y_labels_train, 5)\ny_labels_val =  tf.keras.utils.to_categorical(y_labels_val, 5)\ny_labels_test =  tf.keras.utils.to_categorical(y_labels_test, 5)\n\ntraining_set = tf.data.Dataset.from_tensor_slices((X_data_train, y_labels_train))",
   "execution_count": 7,
   "outputs": []
  },
  {
   "cell_type": "markdown",
   "source": "## Fit Model to Data, Specify Number of Epochs and Batch Size\n\n**Batch Size** - In each iteration of the optimizer, how many samples are taken into account when calculating derivatives of the loss function? (If batch size is less than number of samples, there will be multiple optimization iterations per epoch.)\n\n**Epochs** - How many times should the data be passed through before optimization is finished?",
   "metadata": {
    "id": "DnDGqneBOsW_",
    "colab_type": "text",
    "cell_id": "00014-8f1e7ff4-566c-4f20-8fba-c364b0f8ea4e",
    "deepnote_cell_type": "markdown",
    "deepnote_cell_height": 207.1875
   }
  },
  {
   "cell_type": "code",
   "metadata": {
    "id": "nkeUHhxZ3iOF",
    "colab_type": "code",
    "colab": {
     "base_uri": "https://localhost:8080/",
     "height": 1000
    },
    "outputId": "fd52264a-8db8-4abf-85e4-da0bf7a8c2b1",
    "cell_id": "00015-584d77fe-8b3a-42e6-8258-010229e211f2",
    "deepnote_cell_type": "code",
    "deepnote_cell_height": 917
   },
   "source": "epochs = 50\nbatch_size = 100\n\ntraining_set = training_set.batch(batch_size) #set batch size\n\nfor epoch in range(epochs):\n    for signals, labels in training_set:\n        tr_loss, tr_accuracy = model.train_on_batch(signals, labels)\n    val_loss, val_accuracy = model.evaluate(X_data_val, y_labels_val)\n    print(('Epoch #%d\\t Training Loss: %.2f\\tTraining Accuracy: %.2f\\t'\n         'Validation Loss: %.2f\\tValidation Accuracy: %.2f')\n         % (epoch + 1, tr_loss, tr_accuracy,\n         val_loss, val_accuracy))",
   "execution_count": 8,
   "outputs": [
    {
     "output_type": "stream",
     "text": "8/8 [==============================] - 0s 2ms/step - loss: 1.5198 - accuracy: 0.4040\nEpoch #1\t Training Loss: 1.51\tTraining Accuracy: 0.39\tValidation Loss: 1.52\tValidation Accuracy: 0.40\n8/8 [==============================] - 0s 2ms/step - loss: 1.3129 - accuracy: 0.5360\nEpoch #2\t Training Loss: 1.30\tTraining Accuracy: 0.50\tValidation Loss: 1.31\tValidation Accuracy: 0.54\n8/8 [==============================] - 0s 1ms/step - loss: 1.1601 - accuracy: 0.5600\nEpoch #3\t Training Loss: 1.16\tTraining Accuracy: 0.50\tValidation Loss: 1.16\tValidation Accuracy: 0.56\n8/8 [==============================] - 0s 1ms/step - loss: 1.1166 - accuracy: 0.5680\nEpoch #4\t Training Loss: 1.13\tTraining Accuracy: 0.51\tValidation Loss: 1.12\tValidation Accuracy: 0.57\n8/8 [==============================] - 0s 1ms/step - loss: 1.1046 - accuracy: 0.5760\nEpoch #5\t Training Loss: 1.12\tTraining Accuracy: 0.51\tValidation Loss: 1.10\tValidation Accuracy: 0.58\n8/8 [==============================] - 0s 2ms/step - loss: 1.0886 - accuracy: 0.5840\nEpoch #6\t Training Loss: 1.11\tTraining Accuracy: 0.52\tValidation Loss: 1.09\tValidation Accuracy: 0.58\n8/8 [==============================] - 0s 2ms/step - loss: 1.0733 - accuracy: 0.5880\nEpoch #7\t Training Loss: 1.10\tTraining Accuracy: 0.52\tValidation Loss: 1.07\tValidation Accuracy: 0.59\n8/8 [==============================] - 0s 2ms/step - loss: 1.0596 - accuracy: 0.5920\nEpoch #8\t Training Loss: 1.10\tTraining Accuracy: 0.51\tValidation Loss: 1.06\tValidation Accuracy: 0.59\n8/8 [==============================] - 0s 2ms/step - loss: 1.0436 - accuracy: 0.6000\nEpoch #9\t Training Loss: 1.09\tTraining Accuracy: 0.51\tValidation Loss: 1.04\tValidation Accuracy: 0.60\n8/8 [==============================] - 0s 2ms/step - loss: 1.0314 - accuracy: 0.5960\nEpoch #10\t Training Loss: 1.08\tTraining Accuracy: 0.53\tValidation Loss: 1.03\tValidation Accuracy: 0.60\n8/8 [==============================] - 0s 2ms/step - loss: 1.0220 - accuracy: 0.6000\nEpoch #11\t Training Loss: 1.07\tTraining Accuracy: 0.54\tValidation Loss: 1.02\tValidation Accuracy: 0.60\n8/8 [==============================] - 0s 2ms/step - loss: 1.0150 - accuracy: 0.5920\nEpoch #12\t Training Loss: 1.07\tTraining Accuracy: 0.53\tValidation Loss: 1.02\tValidation Accuracy: 0.59\n8/8 [==============================] - 0s 1ms/step - loss: 1.0082 - accuracy: 0.6080\nEpoch #13\t Training Loss: 1.06\tTraining Accuracy: 0.54\tValidation Loss: 1.01\tValidation Accuracy: 0.61\n8/8 [==============================] - 0s 2ms/step - loss: 1.0038 - accuracy: 0.6000\nEpoch #14\t Training Loss: 1.05\tTraining Accuracy: 0.55\tValidation Loss: 1.00\tValidation Accuracy: 0.60\n8/8 [==============================] - 0s 1ms/step - loss: 1.0025 - accuracy: 0.6040\nEpoch #15\t Training Loss: 1.05\tTraining Accuracy: 0.55\tValidation Loss: 1.00\tValidation Accuracy: 0.60\n8/8 [==============================] - 0s 1ms/step - loss: 1.0012 - accuracy: 0.5920\nEpoch #16\t Training Loss: 1.05\tTraining Accuracy: 0.56\tValidation Loss: 1.00\tValidation Accuracy: 0.59\n8/8 [==============================] - 0s 1ms/step - loss: 0.9978 - accuracy: 0.6040\nEpoch #17\t Training Loss: 1.04\tTraining Accuracy: 0.57\tValidation Loss: 1.00\tValidation Accuracy: 0.60\n8/8 [==============================] - 0s 1ms/step - loss: 0.9941 - accuracy: 0.6040\nEpoch #18\t Training Loss: 1.04\tTraining Accuracy: 0.57\tValidation Loss: 0.99\tValidation Accuracy: 0.60\n8/8 [==============================] - 0s 1ms/step - loss: 0.9907 - accuracy: 0.6040\nEpoch #19\t Training Loss: 1.03\tTraining Accuracy: 0.57\tValidation Loss: 0.99\tValidation Accuracy: 0.60\n8/8 [==============================] - 0s 1ms/step - loss: 0.9857 - accuracy: 0.6120\nEpoch #20\t Training Loss: 1.03\tTraining Accuracy: 0.55\tValidation Loss: 0.99\tValidation Accuracy: 0.61\n8/8 [==============================] - 0s 2ms/step - loss: 0.9799 - accuracy: 0.6080\nEpoch #21\t Training Loss: 1.03\tTraining Accuracy: 0.55\tValidation Loss: 0.98\tValidation Accuracy: 0.61\n8/8 [==============================] - 0s 2ms/step - loss: 0.9756 - accuracy: 0.6280\nEpoch #22\t Training Loss: 1.02\tTraining Accuracy: 0.54\tValidation Loss: 0.98\tValidation Accuracy: 0.63\n8/8 [==============================] - 0s 1ms/step - loss: 0.9701 - accuracy: 0.6200\nEpoch #23\t Training Loss: 1.02\tTraining Accuracy: 0.53\tValidation Loss: 0.97\tValidation Accuracy: 0.62\n8/8 [==============================] - 0s 2ms/step - loss: 0.9636 - accuracy: 0.6240\nEpoch #24\t Training Loss: 1.01\tTraining Accuracy: 0.53\tValidation Loss: 0.96\tValidation Accuracy: 0.62\n8/8 [==============================] - 0s 1ms/step - loss: 0.9599 - accuracy: 0.6240\nEpoch #25\t Training Loss: 1.01\tTraining Accuracy: 0.53\tValidation Loss: 0.96\tValidation Accuracy: 0.62\n8/8 [==============================] - 0s 1ms/step - loss: 0.9551 - accuracy: 0.6200\nEpoch #26\t Training Loss: 1.01\tTraining Accuracy: 0.53\tValidation Loss: 0.96\tValidation Accuracy: 0.62\n8/8 [==============================] - 0s 1ms/step - loss: 0.9530 - accuracy: 0.6160\nEpoch #27\t Training Loss: 1.00\tTraining Accuracy: 0.53\tValidation Loss: 0.95\tValidation Accuracy: 0.62\n8/8 [==============================] - 0s 2ms/step - loss: 0.9496 - accuracy: 0.6080\nEpoch #28\t Training Loss: 1.00\tTraining Accuracy: 0.53\tValidation Loss: 0.95\tValidation Accuracy: 0.61\n8/8 [==============================] - 0s 2ms/step - loss: 0.9442 - accuracy: 0.6080\nEpoch #29\t Training Loss: 1.00\tTraining Accuracy: 0.53\tValidation Loss: 0.94\tValidation Accuracy: 0.61\n8/8 [==============================] - 0s 2ms/step - loss: 0.9444 - accuracy: 0.6120\nEpoch #30\t Training Loss: 0.99\tTraining Accuracy: 0.53\tValidation Loss: 0.94\tValidation Accuracy: 0.61\n8/8 [==============================] - 0s 2ms/step - loss: 0.9409 - accuracy: 0.6120\nEpoch #31\t Training Loss: 0.99\tTraining Accuracy: 0.53\tValidation Loss: 0.94\tValidation Accuracy: 0.61\n8/8 [==============================] - 0s 1ms/step - loss: 0.9388 - accuracy: 0.6160\nEpoch #32\t Training Loss: 0.99\tTraining Accuracy: 0.54\tValidation Loss: 0.94\tValidation Accuracy: 0.62\n8/8 [==============================] - 0s 1ms/step - loss: 0.9399 - accuracy: 0.6160\nEpoch #33\t Training Loss: 0.99\tTraining Accuracy: 0.55\tValidation Loss: 0.94\tValidation Accuracy: 0.62\n8/8 [==============================] - 0s 1ms/step - loss: 0.9407 - accuracy: 0.6200\nEpoch #34\t Training Loss: 0.99\tTraining Accuracy: 0.55\tValidation Loss: 0.94\tValidation Accuracy: 0.62\n8/8 [==============================] - 0s 2ms/step - loss: 0.9409 - accuracy: 0.6200\nEpoch #35\t Training Loss: 0.98\tTraining Accuracy: 0.55\tValidation Loss: 0.94\tValidation Accuracy: 0.62\n8/8 [==============================] - 0s 1ms/step - loss: 0.9374 - accuracy: 0.6120\nEpoch #36\t Training Loss: 0.99\tTraining Accuracy: 0.56\tValidation Loss: 0.94\tValidation Accuracy: 0.61\n8/8 [==============================] - 0s 2ms/step - loss: 0.9300 - accuracy: 0.6200\nEpoch #37\t Training Loss: 0.98\tTraining Accuracy: 0.56\tValidation Loss: 0.93\tValidation Accuracy: 0.62\n8/8 [==============================] - 0s 2ms/step - loss: 0.9363 - accuracy: 0.6120\nEpoch #38\t Training Loss: 0.98\tTraining Accuracy: 0.56\tValidation Loss: 0.94\tValidation Accuracy: 0.61\n8/8 [==============================] - 0s 2ms/step - loss: 0.9250 - accuracy: 0.6120\nEpoch #39\t Training Loss: 0.98\tTraining Accuracy: 0.55\tValidation Loss: 0.93\tValidation Accuracy: 0.61\n8/8 [==============================] - 0s 1ms/step - loss: 0.9320 - accuracy: 0.6080\nEpoch #40\t Training Loss: 0.97\tTraining Accuracy: 0.56\tValidation Loss: 0.93\tValidation Accuracy: 0.61\n8/8 [==============================] - 0s 2ms/step - loss: 0.9349 - accuracy: 0.6080\nEpoch #41\t Training Loss: 0.97\tTraining Accuracy: 0.57\tValidation Loss: 0.93\tValidation Accuracy: 0.61\n8/8 [==============================] - 0s 1ms/step - loss: 0.9252 - accuracy: 0.6040\nEpoch #42\t Training Loss: 0.97\tTraining Accuracy: 0.56\tValidation Loss: 0.93\tValidation Accuracy: 0.60\n8/8 [==============================] - 0s 2ms/step - loss: 0.9420 - accuracy: 0.6000\nEpoch #43\t Training Loss: 0.97\tTraining Accuracy: 0.56\tValidation Loss: 0.94\tValidation Accuracy: 0.60\n8/8 [==============================] - 0s 2ms/step - loss: 0.9309 - accuracy: 0.6000\nEpoch #44\t Training Loss: 0.97\tTraining Accuracy: 0.56\tValidation Loss: 0.93\tValidation Accuracy: 0.60\n8/8 [==============================] - 0s 2ms/step - loss: 0.9428 - accuracy: 0.6080\nEpoch #45\t Training Loss: 0.96\tTraining Accuracy: 0.57\tValidation Loss: 0.94\tValidation Accuracy: 0.61\n8/8 [==============================] - 0s 1ms/step - loss: 0.9324 - accuracy: 0.6000\nEpoch #46\t Training Loss: 0.96\tTraining Accuracy: 0.56\tValidation Loss: 0.93\tValidation Accuracy: 0.60\n8/8 [==============================] - 0s 2ms/step - loss: 0.9374 - accuracy: 0.6120\nEpoch #47\t Training Loss: 0.95\tTraining Accuracy: 0.55\tValidation Loss: 0.94\tValidation Accuracy: 0.61\n8/8 [==============================] - 0s 1ms/step - loss: 0.9349 - accuracy: 0.6000\nEpoch #48\t Training Loss: 0.96\tTraining Accuracy: 0.57\tValidation Loss: 0.93\tValidation Accuracy: 0.60\n8/8 [==============================] - 0s 1ms/step - loss: 0.9403 - accuracy: 0.6000\nEpoch #49\t Training Loss: 0.95\tTraining Accuracy: 0.55\tValidation Loss: 0.94\tValidation Accuracy: 0.60\n8/8 [==============================] - 0s 1ms/step - loss: 0.9326 - accuracy: 0.6040\nEpoch #50\t Training Loss: 0.95\tTraining Accuracy: 0.56\tValidation Loss: 0.93\tValidation Accuracy: 0.60\n",
     "name": "stdout"
    }
   ]
  },
  {
   "cell_type": "markdown",
   "source": "## Check Performance on Test Set\n\nWe can use model.predict to output predicted labels on the test set, or model.evaluate to determine test-set accuracy (since we have the labels)\n",
   "metadata": {
    "id": "OadIT5MEaOJA",
    "colab_type": "text",
    "cell_id": "00016-4c65478a-43fd-4795-aa89-6558b5b2e9a6",
    "deepnote_cell_type": "markdown",
    "deepnote_cell_height": 130.796875
   }
  },
  {
   "cell_type": "code",
   "metadata": {
    "id": "Mr55MHYhafFa",
    "colab_type": "code",
    "colab": {
     "base_uri": "https://localhost:8080/",
     "height": 34
    },
    "outputId": "201332aa-9aca-4af8-e01f-d9fc101e8642",
    "cell_id": "00017-5cd99c0b-0fe2-48e3-a994-25ba7de70293",
    "deepnote_cell_type": "code",
    "deepnote_cell_height": 111.6875
   },
   "source": "test_loss, test_accuracy = model.evaluate(X_data_test, y_labels_test)",
   "execution_count": 9,
   "outputs": [
    {
     "output_type": "stream",
     "text": "8/8 [==============================] - 0s 1ms/step - loss: 0.9481 - accuracy: 0.5960\n",
     "name": "stdout"
    }
   ]
  },
  {
   "cell_type": "markdown",
   "source": "<a style='text-decoration:none;line-height:16px;display:flex;color:#5B5B62;padding:10px;justify-content:end;' href='https://deepnote.com?utm_source=created-in-deepnote-cell&projectId=1b786bcf-bec9-4934-8a64-e95efef704e0' target=\"_blank\">\n<img alt='Created in deepnote.com' style='display:inline;max-height:16px;margin:0px;margin-right:7.5px;' src='data:image/svg+xml;base64,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' > </img>\nCreated in <span style='font-weight:600;margin-left:4px;'>Deepnote</span></a>",
   "metadata": {
    "tags": [],
    "created_in_deepnote_cell": true,
    "deepnote_cell_type": "markdown"
   }
  }
 ],
 "nbformat": 4,
 "nbformat_minor": 0,
 "metadata": {
  "colab": {
   "name": "NeuralNetworks_Tutorial_part1.ipynb",
   "provenance": [],
   "collapsed_sections": [],
   "include_colab_link": true
  },
  "kernelspec": {
   "name": "python3",
   "display_name": "Python 3"
  },
  "deepnote_notebook_id": "ee340c66-c631-495d-aef1-fbb56d35b8e3",
  "deepnote": {},
  "deepnote_execution_queue": []
 }
}
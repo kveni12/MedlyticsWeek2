{
 "cells": [
  {
   "cell_type": "markdown",
   "source": "# Neural Network Exercise\n\nIn this Exercise Notebook you will be building your own artificial neural network and seeing how adding different types of layers can affect the validation/testing accuracy. This is based off of the Simple Neural Network with Keras tutorial, so you can reference that for further explanations as well.",
   "metadata": {
    "id": "PlpG_fIiqdJU",
    "colab_type": "text",
    "cell_id": "4ccd5aaf-6b88-42a6-9b94-3a309e47caaf",
    "deepnote_cell_type": "markdown",
    "deepnote_cell_height": 187.59375
   }
  },
  {
   "cell_type": "code",
   "metadata": {
    "id": "eFSzOvSduDf8",
    "colab_type": "code",
    "colab": {},
    "cell_id": "00001-7f24563a-f489-4e32-af79-b7a6f9a81473",
    "deepnote_to_be_reexecuted": false,
    "source_hash": "9e6326f3",
    "execution_start": 1658266191047,
    "execution_millis": 8701,
    "deepnote_cell_type": "code",
    "deepnote_cell_height": 207
   },
   "source": "import os\nimport matplotlib.pyplot as plt\nimport pandas as pd\nfrom sklearn.preprocessing import StandardScaler\nfrom sklearn.utils import shuffle\nfrom keras.models import Sequential\nfrom keras.layers import Dense\nimport tensorflow as tf",
   "execution_count": null,
   "outputs": []
  },
  {
   "cell_type": "code",
   "metadata": {
    "id": "Ep_09mlyqa5G",
    "colab_type": "code",
    "colab": {},
    "cell_id": "00002-9106caa0-8f0e-40d0-84ef-3a033d366600",
    "owner_user_id": "10a2b549-7636-481a-bcf6-978642d5558f",
    "deepnote_to_be_reexecuted": false,
    "source_hash": "7a6e8b1d",
    "execution_start": 1658266199749,
    "execution_millis": 151,
    "deepnote_cell_type": "code",
    "deepnote_cell_height": 118.1875,
    "deepnote_output_heights": [
     21.1875
    ]
   },
   "source": "os.system('wget https://raw.githubusercontent.com/BeaverWorksMedlytics2020/Data_Public/master/NotebookExampleData/Week2/spoken_digit_manual_features.csv')",
   "execution_count": null,
   "outputs": [
    {
     "output_type": "execute_result",
     "execution_count": 2,
     "data": {
      "text/plain": "0"
     },
     "metadata": {}
    }
   ]
  },
  {
   "cell_type": "markdown",
   "source": "## Load Training Data and Pre-processed Features\n\nYour goal is to build a neural network that learns to classify which of the 5 speakers is recorded in a signal sample. Your prediction will be based off of features we've already pre-extracted for you and put into this CSV: spectral centroid `SC`, spectral flatness `SF`, and maximum frequency `MF`.",
   "metadata": {
    "id": "zChcGaqVysRB",
    "colab_type": "text",
    "cell_id": "00003-5383c4b8-a72c-4741-9265-885172bac18d",
    "deepnote_cell_type": "markdown",
    "deepnote_cell_height": 215.59375
   }
  },
  {
   "cell_type": "code",
   "metadata": {
    "id": "SVwsmOGvw7jp",
    "colab_type": "code",
    "colab": {},
    "cell_id": "00004-6f1599ac-41b8-40f1-8801-1801d32d0f6a",
    "deepnote_cell_type": "code",
    "deepnote_cell_height": 192
   },
   "source": "# Load csv containing raw data, labels, and pre-processed features\nspoken_df = pd.read_csv('spoken_digit_manual_features.csv', index_col = 0)\nprint(spoken_df.head(10))\nprint('\\n')\n\n# Set speakers\nspeakers = set(spoken_df['speaker'])\nprint(f'There are {len(speakers)} unique speakers in the dataset')",
   "execution_count": null,
   "outputs": []
  },
  {
   "cell_type": "markdown",
   "source": "Converting labels to \"onehot\" vectors:",
   "metadata": {
    "id": "mArY7lB4Akv1",
    "colab_type": "text",
    "cell_id": "00005-eba6cc27-d6cc-476c-b6b5-307a80b6d384",
    "deepnote_cell_type": "markdown",
    "deepnote_cell_height": 52.390625
   }
  },
  {
   "cell_type": "code",
   "metadata": {
    "id": "nLRtFkiYAc3N",
    "colab_type": "code",
    "colab": {},
    "cell_id": "00006-5b2b6d05-b5d7-43b9-b3e5-a6eacc03bc4f",
    "deepnote_cell_type": "code",
    "deepnote_cell_height": 156
   },
   "source": "# Make dictionary to convert from speaker names to indices\nname2int_dict = {name: ind for (ind, name) in enumerate(set(spoken_df['speaker']))}\n\ny_labels = spoken_df['speaker']\n# Set y_labels to be indices of speaker\ny_labels = [name2int_dict[name] for name in y_labels]",
   "execution_count": null,
   "outputs": []
  },
  {
   "cell_type": "markdown",
   "source": "Standardize data and split into train, validation, and test sets:",
   "metadata": {
    "id": "xUhDZMw1A93D",
    "colab_type": "text",
    "cell_id": "00007-d11c9186-0e0f-4ac3-b3b6-2feb5ee57f4e",
    "deepnote_cell_type": "markdown",
    "deepnote_cell_height": 52.390625
   }
  },
  {
   "cell_type": "code",
   "metadata": {
    "id": "TAuzw6ibA3Es",
    "colab_type": "code",
    "colab": {},
    "cell_id": "00008-1626bb23-cf86-41a3-8a1e-e1597acbdd78",
    "deepnote_cell_type": "code",
    "deepnote_cell_height": 534
   },
   "source": "# Downselect to only the 3 columns of the dataset we are learning from, aka the features\nX_data = spoken_df[['SC', 'SF', 'MF']].to_numpy()\n\n# Decide how large to make validation and test sets\nn_val = 250\nn_test = 250\n\n# Shuffle data before partitioning\nX_data, y_labels = shuffle(X_data, y_labels, random_state = 25)\n\n# Partition\nX_data_test, y_labels_test = X_data[:n_test,:], y_labels[:n_test]\nX_data_val, y_labels_val = X_data[n_test:n_test+n_val,:], y_labels[n_test:n_test+n_val]\nX_data_train, y_labels_train = X_data[n_test+n_val:,:], y_labels[n_test+n_val:]\n\n# Scale data\nscaler = StandardScaler()\nX_data_train=scaler.fit_transform(X_data_train)\nX_data_val = scaler.transform(X_data_val)\nX_data_test = scaler.transform(X_data_test)\n\n# Convert labels to onehot\ny_labels_train = tf.keras.utils.to_categorical(y_labels_train, 5)\ny_labels_val =  tf.keras.utils.to_categorical(y_labels_val, 5)\ny_labels_test =  tf.keras.utils.to_categorical(y_labels_test, 5)\n\ntraining_set = tf.data.Dataset.from_tensor_slices((X_data_train, y_labels_train))",
   "execution_count": null,
   "outputs": []
  },
  {
   "cell_type": "markdown",
   "source": "## Aditional Layers\n\nBefore you get to writing your own neural network we'll show you some examples of additional layers you can potetially add that we didn't go over in the tutorial. After reading over our explanations/example code and going through documentation you'll be testing some of these out by putting together a neural network yourself.",
   "metadata": {
    "id": "riycN8SdyxNT",
    "colab_type": "text",
    "cell_id": "00009-4264c3a1-ad3f-43c1-b16d-bd66427bd952",
    "deepnote_cell_type": "markdown",
    "deepnote_cell_height": 197.984375
   }
  },
  {
   "cell_type": "markdown",
   "source": "### Dropout Layers\n\nDropout layers randomly omit, or drop, some elements of the output vector from the layer, which helps prevent overfitting and can improve the generalization of your neural network. The dropout rate can be any number between 0 and 1.\n\nhttps://www.tensorflow.org/api_docs/python/tf/keras/layers/Dropout\n\n```python\n# Example\nd_r = 0.6\ntf.keras.layers.Dropout(rate=d_r)\n```",
   "metadata": {
    "id": "DoaZsqc3iEyv",
    "colab_type": "text",
    "cell_id": "00010-f90250fe-9575-4037-b91a-313db6a13185",
    "deepnote_cell_type": "markdown",
    "deepnote_cell_height": 282.78125
   }
  },
  {
   "cell_type": "markdown",
   "source": "### Pooling Layers\n\nA pooling layer reduces dimensionality (reducing the size of each feature map) and \"compresses\" information by combining several output elements. Two common functions used for pooling are:\n- Average pooling: calculating the average value for each patch on the feature map\n- Max pooling: calculating the maximum value for each patch of the feature map\n\nhttps://www.tensorflow.org/api_docs/python/tf/keras/layers/MaxPool1D\n\n```python\n# Example\ntf.keras.layers.MaxPool1D(pool_size=1)\n```",
   "metadata": {
    "id": "gVJMrZ09iUgk",
    "colab_type": "text",
    "cell_id": "00011-9e47cdf0-dd20-4123-9365-a09b25d825b3",
    "deepnote_cell_type": "markdown",
    "deepnote_cell_height": 344.578125
   }
  },
  {
   "cell_type": "markdown",
   "source": "### Activation Layers/Functions\n\nAn activation function looks at each \"neuron\" in your neural network and determines whether it should be activated (fired) or not, based on the relevancy of the neuron's input to the model’s predictions. Some different activation functions you could look at are:\n- softmax https://www.tensorflow.org/api_docs/python/tf/keras/layers/Softmax\n- sigmoid https://www.tensorflow.org/api_docs/python/tf/keras/activations/sigmoid\n- softplus https://www.tensorflow.org/api_docs/python/tf/keras/activations/softplus\n- relu https://www.tensorflow.org/api_docs/python/tf/keras/layers/ReLU\n\n```python\n# Example\ntf.keras.layers.Softmax()\n```",
   "metadata": {
    "id": "72ngF_beiaV9",
    "colab_type": "text",
    "cell_id": "00012-3397c246-8ee1-4083-b19a-b6a18361828b",
    "deepnote_cell_type": "markdown",
    "deepnote_cell_height": 403.78125
   }
  },
  {
   "cell_type": "markdown",
   "source": "### Optimation Functions\n\nOptimation functions\n- Adam https://www.tensorflow.org/api_docs/python/tf/keras/optimizers/Adam\n  - Adam is computationally efficient, has little memory requirement, and is well suited for problems that are large in terms of data/parameter.\n- Adagrad https://www.tensorflow.org/api_docs/python/tf/keras/optimizers/Adagrad\n  - Adagrad is an optimizer that is best used for sparse data. Some of its benefits are that it converges more quickly and doesn't need manual adjustment of the hyperparameter \"learning rate\".\n- SGD https://www.tensorflow.org/api_docs/python/tf/keras/optimizers/SGD\n  - SGD is a stochastic gradient descent and momentum optimizer. SGD essentially helps gradient vectors move down loss functions towards the minimum point, leading to faster \"converging\".\n- RMSprop https://keras.io/api/optimizers/rmsprop/\n  - As you may already know, the learning rate regulates how much the model \ncan change based on the estimated error (which occurs every time the model's weights are updated). Instead of treating the learning rate as a hyperparamter, RMSprop is an optimization technique that uses relies on a changing, adaptive learning rate.\n\n```python\n# Example code\nl_r = .001 \ntf.keras.optimizers.SGD(learning_rate=l_r)\n```",
   "metadata": {
    "id": "zCdxM6HDqR1F",
    "colab_type": "text",
    "cell_id": "00013-6d5f4d53-60a6-482c-b78c-c7a4eecb59b7",
    "deepnote_cell_type": "markdown",
    "deepnote_cell_height": 686.765625
   }
  },
  {
   "cell_type": "markdown",
   "source": "## Putting Together Your Neural Network\n\nNow you will experiment with adding different layers to your neural network. We've added some guiding comments to give you a place to start and test out, but we also strongly encourage you to go through all the documetation and do some googling as well!",
   "metadata": {
    "id": "ldbularZ3cCW",
    "colab_type": "text",
    "cell_id": "00014-7bd20485-d387-4a13-9247-3f27fc042cab",
    "deepnote_cell_type": "markdown",
    "deepnote_cell_height": 215.59375
   }
  },
  {
   "cell_type": "code",
   "metadata": {
    "id": "qMp_z7W9vZV4",
    "colab_type": "code",
    "colab": {},
    "cell_id": "00015-fa50f327-7844-4d66-8300-5b72b57f0fb7",
    "deepnote_cell_type": "code",
    "deepnote_cell_height": 156
   },
   "source": "# Once you've gone through all the tests play around with these rate alues to see if you can increase your accuracy\nl_r = .001 \nd_r = 0.6\n\nmodel = tf.keras.Sequential()\nmodel.add(tf.keras.layers.Dense(8, input_shape=(3,)))",
   "execution_count": null,
   "outputs": []
  },
  {
   "cell_type": "markdown",
   "source": "### Test 1",
   "metadata": {
    "id": "8OQKRfNjBWGC",
    "colab_type": "text",
    "cell_id": "00016-2fcb05d5-f2bc-4f91-8d4f-f483741be2be",
    "deepnote_cell_type": "markdown",
    "deepnote_cell_height": 62
   }
  },
  {
   "cell_type": "code",
   "metadata": {
    "id": "BneaEDk-BWj2",
    "colab_type": "code",
    "colab": {},
    "cell_id": "00017-7b8be7a1-007d-491b-baf5-7e93c8690383",
    "deepnote_cell_type": "code",
    "deepnote_cell_height": 210
   },
   "source": "# Run this cell as it is\nmodel.add(tf.keras.layers.Dense(8))\nmodel.add(tf.keras.layers.Dense(8))\n\n# output dimension needs to be number of classes in order for each to get a score\nmodel.add(tf.keras.layers.Dense(5))\n\n# Now skip down to the section that compiles and trains your model and run those cells.\n# Check the pseudo-test accuracy and see how well the bare minimum performed.",
   "execution_count": null,
   "outputs": []
  },
  {
   "cell_type": "markdown",
   "source": "### Test 2",
   "metadata": {
    "id": "djwaQho7_xBt",
    "colab_type": "text",
    "cell_id": "00018-a4f0d5b8-ecd9-4f2e-b817-0a4ff3ed3da6",
    "deepnote_cell_type": "markdown",
    "deepnote_cell_height": 62
   }
  },
  {
   "cell_type": "code",
   "metadata": {
    "id": "o2MQzNEa_ViW",
    "colab_type": "code",
    "colab": {},
    "cell_id": "00019-a6e40c81-d4af-4c2f-8385-45781eb9e736",
    "deepnote_cell_type": "code",
    "deepnote_cell_height": 246
   },
   "source": "# Add activation layer here\nmodel.add(tf.keras.layers.Dense(8))\n# Add activation layer here\nmodel.add(tf.keras.layers.Dense(8))\n# Add activation layer here \n\n# output dimension needs to be number of classes in order for each to get a score\nmodel.add(tf.keras.layers.Dense(5))\n\n# Now skip down to the section that compiles and trains your model and re-run those cells.\n# What do you notice about the testing/Validation accuracy after Test 2 in comparison to Test 1?",
   "execution_count": null,
   "outputs": []
  },
  {
   "cell_type": "markdown",
   "source": "### Test 3",
   "metadata": {
    "id": "M_pr4L_0Bzt_",
    "colab_type": "text",
    "cell_id": "00020-42b770fd-86c1-419d-8e7d-ce7911588aca",
    "deepnote_cell_type": "markdown",
    "deepnote_cell_height": 62
   }
  },
  {
   "cell_type": "code",
   "metadata": {
    "id": "pb-7sVYkB11c",
    "colab_type": "code",
    "colab": {},
    "cell_id": "00021-168491b6-e497-46fe-8953-b33aca3bda3a",
    "deepnote_cell_type": "code",
    "deepnote_cell_height": 282
   },
   "source": "# Add activation layer here\nmodel.add(tf.keras.layers.Dense(8))\n# Add activation layer here\nmodel.add(tf.keras.layers.Dense(8))\n# Add activation layer here \n\n# output dimension needs to be number of classes in order for each to get a score\nmodel.add(tf.keras.layers.Dense(5))\n\n# Add dropout layer here\n\n# Now skip down to the section that compiles and trains your model and re-run those cells.\n# What do you notice about the testing/Validation accuracy after Test 2 in comparison to Test 1 & 2?",
   "execution_count": null,
   "outputs": []
  },
  {
   "cell_type": "markdown",
   "source": "### Test 4\n\nNow go back down to the cell where you compiled your model, and this time change the optimizer. It's been set to Adam by default but as we showed you above, there are other functions that you can test out.",
   "metadata": {
    "id": "YwjD-MgMDHFV",
    "colab_type": "text",
    "cell_id": "00022-7fbb290e-a36c-4ecd-834a-ecd11d0974e6",
    "deepnote_cell_type": "markdown",
    "deepnote_cell_height": 145.1875
   }
  },
  {
   "cell_type": "markdown",
   "source": "## Compiling and Training Your Model",
   "metadata": {
    "id": "Qhna7lr5Dm56",
    "colab_type": "text",
    "cell_id": "00023-8305b7d1-4c91-4618-b819-63d2fbe45989",
    "deepnote_cell_type": "markdown",
    "deepnote_cell_height": 70
   }
  },
  {
   "cell_type": "code",
   "metadata": {
    "id": "XB1qNpsoASGv",
    "colab_type": "code",
    "colab": {},
    "cell_id": "00024-0ef9d12a-c2dc-4e08-bed7-046be435a63f",
    "deepnote_cell_type": "code",
    "deepnote_cell_height": 102
   },
   "source": "model.compile(loss = tf.keras.losses.categorical_crossentropy, \n              optimizer = tf.keras.optimizers.Adam(learning_rate=l_r),\n              metrics = ['accuracy'])   ",
   "execution_count": null,
   "outputs": []
  },
  {
   "cell_type": "markdown",
   "source": "Fit Model to Data, Specify Number of Epochs and Batch Size:",
   "metadata": {
    "id": "Tj1lwAY7BJPk",
    "colab_type": "text",
    "cell_id": "00025-476f983c-b9c0-4e79-8b12-e9e34de54a3d",
    "deepnote_cell_type": "markdown",
    "deepnote_cell_height": 52.390625
   }
  },
  {
   "cell_type": "code",
   "metadata": {
    "id": "uF2RT0eGBIlD",
    "colab_type": "code",
    "colab": {},
    "cell_id": "00026-57ec834d-dfff-48d3-8c6d-6b62c5ca52f2",
    "deepnote_cell_type": "code",
    "deepnote_cell_height": 282
   },
   "source": "EPOCHS = 50\nbatch_size = 100\n\ntraining_set = training_set.batch(batch_size) #set batch size\n\nfor epoch in range(EPOCHS):\n    for signals, labels in training_set:\n        tr_loss, tr_accuracy = model.train_on_batch(signals, labels)\n    val_loss, val_accuracy = model.evaluate(X_data_val, y_labels_val)\n    print(('Epoch #%d\\t Training Loss: %.2f\\tTraining Accuracy: %.2f\\t'\n         'Validation Loss: %.2f\\tValidation Accuracy: %.2f')\n         % (epoch + 1, tr_loss, tr_accuracy,\n         val_loss, val_accuracy))",
   "execution_count": null,
   "outputs": []
  },
  {
   "cell_type": "code",
   "metadata": {
    "id": "4GipGyEkBQdj",
    "colab_type": "code",
    "colab": {},
    "cell_id": "00027-c9d12801-81f6-4306-a84f-da8b5e678f81",
    "deepnote_cell_type": "code",
    "deepnote_cell_height": 84
   },
   "source": "#Check Performance on Test Set\ntest_loss, test_accuracy = model.evaluate(X_data_test, y_labels_test)",
   "execution_count": null,
   "outputs": []
  },
  {
   "cell_type": "markdown",
   "source": "Now modify the existing model even more, and try to find the highest and appropriate testing and validation accuracy!",
   "metadata": {
    "id": "maTNvEQpbkoS",
    "colab_type": "text",
    "cell_id": "00028-a409e23d-79a7-4f26-a6ff-f950c523ddd4",
    "deepnote_cell_type": "markdown",
    "deepnote_cell_height": 74.796875
   }
  },
  {
   "cell_type": "markdown",
   "source": "<a style='text-decoration:none;line-height:16px;display:flex;color:#5B5B62;padding:10px;justify-content:end;' href='https://deepnote.com?utm_source=created-in-deepnote-cell&projectId=1b786bcf-bec9-4934-8a64-e95efef704e0' target=\"_blank\">\n<img alt='Created in deepnote.com' style='display:inline;max-height:16px;margin:0px;margin-right:7.5px;' src='data:image/svg+xml;base64,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' > </img>\nCreated in <span style='font-weight:600;margin-left:4px;'>Deepnote</span></a>",
   "metadata": {
    "tags": [],
    "created_in_deepnote_cell": true,
    "deepnote_cell_type": "markdown"
   }
  }
 ],
 "nbformat": 4,
 "nbformat_minor": 0,
 "metadata": {
  "colab": {
   "name": "NeuralNetworks_Exercises.ipynb",
   "provenance": [],
   "collapsed_sections": []
  },
  "kernelspec": {
   "name": "python3",
   "display_name": "Python 3"
  },
  "deepnote_notebook_id": "1a25c333-76ec-4f89-a9b1-32a920daed7d",
  "deepnote": {},
  "deepnote_execution_queue": []
 }
}